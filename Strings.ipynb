{
 "cells": [
  {
   "cell_type": "code",
   "execution_count": 5,
   "metadata": {},
   "outputs": [
    {
     "name": "stdout",
     "output_type": "stream",
     "text": [
      " Hello this is \n",
      "nitisha\n"
     ]
    }
   ],
   "source": [
    "a = 'this s string'\n",
    "b = \"This Is String\"\n",
    "c = '''abcdefghijkl\n",
    "mnopqrstuv'''  #triple quotes\n",
    "d = b'this is byte string' # b denotes byte string\n",
    "e = u'This is unicode string' #Unicode string denotes with u\n",
    "f = r'this is a raw string' #r denotes Raw string.\n",
    "g = ' Hello this is \\nnitisha'\n",
    "print(g)\n",
    "# print all the variables.\n"
   ]
  },
  {
   "cell_type": "code",
   "execution_count": 6,
   "metadata": {},
   "outputs": [
    {
     "name": "stdout",
     "output_type": "stream",
     "text": [
      "10\n"
     ]
    }
   ],
   "source": [
    "#type cast\n",
    "x = 10\n",
    "x = str(x)\n",
    "print(x)\n"
   ]
  },
  {
   "cell_type": "code",
   "execution_count": null,
   "metadata": {},
   "outputs": [],
   "source": [
    "# Rules of String\n",
    "-String is Sequence of character\n",
    "-string is immutable\n",
    "- string is Ordered data \n",
    "- string accepts indexing and slicing\n"
   ]
  }
 ],
 "metadata": {
  "kernelspec": {
   "display_name": "base",
   "language": "python",
   "name": "python3"
  },
  "language_info": {
   "codemirror_mode": {
    "name": "ipython",
    "version": 3
   },
   "file_extension": ".py",
   "mimetype": "text/x-python",
   "name": "python",
   "nbconvert_exporter": "python",
   "pygments_lexer": "ipython3",
   "version": "3.10.10"
  },
  "orig_nbformat": 4
 },
 "nbformat": 4,
 "nbformat_minor": 2
}
