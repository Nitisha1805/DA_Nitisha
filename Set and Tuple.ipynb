{
 "cells": [
  {
   "attachments": {},
   "cell_type": "markdown",
   "metadata": {},
   "source": [
    "## Tuple\n",
    " - python default sequential data structure\n",
    " -indexed , ordered , heterogenous\n",
    " -immutable\n",
    " -represented by '()'\n",
    " - faster than list\n",
    " -tuple() convert any sequence to tuple\n",
    "## Set\n",
    " - unordered , unindexed, mutable\n",
    " - unique elements only\n",
    " - can store only immutable elements\n",
    " - represented by '{}'\n",
    " - set() convert any sequence to set.\n",
    " "
   ]
  },
  {
   "cell_type": "code",
   "execution_count": 1,
   "metadata": {},
   "outputs": [
    {
     "name": "stdout",
     "output_type": "stream",
     "text": [
      "(1, 'A', 2)\n",
      "<class 'tuple'>\n"
     ]
    }
   ],
   "source": [
    "#Tuple\n",
    "\n",
    "x = (1,'A',2)\n",
    "print(x)\n",
    "print(type(x))"
   ]
  },
  {
   "cell_type": "code",
   "execution_count": 2,
   "metadata": {},
   "outputs": [
    {
     "name": "stdout",
     "output_type": "stream",
     "text": [
      "(13,)\n",
      "<class 'tuple'>\n"
     ]
    }
   ],
   "source": [
    "#single element tuple\n",
    "b = (13,)  #add comma\n",
    "print(b)\n",
    "print(type(b))"
   ]
  },
  {
   "cell_type": "code",
   "execution_count": 5,
   "metadata": {},
   "outputs": [
    {
     "name": "stdout",
     "output_type": "stream",
     "text": [
      "1 A 2\n"
     ]
    }
   ],
   "source": [
    "# tuple unpacking\n",
    "x1 , x2 , x3 = x\n",
    "print(x1,x2,x3)"
   ]
  },
  {
   "cell_type": "code",
   "execution_count": 6,
   "metadata": {},
   "outputs": [
    {
     "name": "stdout",
     "output_type": "stream",
     "text": [
      "1 2 [3, 4, 5, 67, 8, 9, 10]\n"
     ]
    }
   ],
   "source": [
    "c = (1,2,3,4,5,67,8,9,10)\n",
    "a1,a2,*a3 = c\n",
    "print(a1,a2,a3) #unpacking"
   ]
  },
  {
   "cell_type": "code",
   "execution_count": 7,
   "metadata": {},
   "outputs": [
    {
     "name": "stdout",
     "output_type": "stream",
     "text": [
      "(2, 3, 4)\n"
     ]
    }
   ],
   "source": [
    "#slicing\n",
    "print(c[1:4])"
   ]
  },
  {
   "cell_type": "code",
   "execution_count": 8,
   "metadata": {},
   "outputs": [
    {
     "name": "stdout",
     "output_type": "stream",
     "text": [
      "1\n",
      "2\n",
      "3\n",
      "4\n",
      "5\n",
      "67\n",
      "8\n",
      "9\n",
      "10\n"
     ]
    }
   ],
   "source": [
    "for i in c :\n",
    "    print(i)"
   ]
  },
  {
   "attachments": {},
   "cell_type": "markdown",
   "metadata": {},
   "source": [
    "Tuple Method\n",
    "1. Count\n",
    "2. index"
   ]
  },
  {
   "cell_type": "code",
   "execution_count": 14,
   "metadata": {},
   "outputs": [
    {
     "name": "stdout",
     "output_type": "stream",
     "text": [
      "3\n",
      "2\n",
      "8\n",
      "3\n"
     ]
    }
   ],
   "source": [
    "x = (1,2,1,3,4,5,12,23,12,6,7,8,9,12,90)\n",
    "print(x.count(12))\n",
    "print(x.count(1))\n",
    "print(x.index(12,7))\n",
    "print(x.index(3)) \n",
    "\n"
   ]
  },
  {
   "cell_type": "code",
   "execution_count": 15,
   "metadata": {},
   "outputs": [
    {
     "name": "stdout",
     "output_type": "stream",
     "text": [
      "{1, 2, 3, 4, 5}\n",
      "<class 'set'>\n"
     ]
    }
   ],
   "source": [
    "#SET\n",
    "\n",
    "s = {1,2,3,1,3,4,5,2,1,4,5}\n",
    "print(s)\n",
    "print(type(s))"
   ]
  },
  {
   "cell_type": "code",
   "execution_count": 17,
   "metadata": {},
   "outputs": [
    {
     "name": "stdout",
     "output_type": "stream",
     "text": [
      "set()\n"
     ]
    }
   ],
   "source": [
    "s1 = set() \n",
    "print(s1) #empty set"
   ]
  },
  {
   "cell_type": "code",
   "execution_count": 20,
   "metadata": {},
   "outputs": [
    {
     "name": "stdout",
     "output_type": "stream",
     "text": [
      "{3, 4, 'Hello', 12, 'Bye'}\n"
     ]
    }
   ],
   "source": [
    "s1.add(3)\n",
    "s1.add(4)\n",
    "s1.add('Hello')\n",
    "s1.add(3)\n",
    "s1.add('Bye')\n",
    "s1.add(12)\n",
    "print(s1)"
   ]
  },
  {
   "cell_type": "code",
   "execution_count": 21,
   "metadata": {},
   "outputs": [
    {
     "name": "stdout",
     "output_type": "stream",
     "text": [
      "{4, 'Hello', 12, 'Bye'}\n"
     ]
    }
   ],
   "source": [
    "s1.discard(3) #remove from set s1\n",
    "print(s1)"
   ]
  },
  {
   "cell_type": "code",
   "execution_count": 22,
   "metadata": {},
   "outputs": [
    {
     "name": "stdout",
     "output_type": "stream",
     "text": [
      "4\n",
      "Hello\n",
      "12\n",
      "Bye\n"
     ]
    }
   ],
   "source": [
    "for i in s1:\n",
    "    print(i)"
   ]
  },
  {
   "cell_type": "code",
   "execution_count": 29,
   "metadata": {},
   "outputs": [],
   "source": [
    "#Set Operations\n",
    "\n",
    "g1 = {'Apple','mango','banana','pineapple','watermelon','kiwi'}\n",
    "g2 = {'Apple','cherry','blueberry','orange','kiwi'}\n",
    "\n",
    "      \n",
    "      "
   ]
  },
  {
   "cell_type": "code",
   "execution_count": 30,
   "metadata": {},
   "outputs": [
    {
     "name": "stdout",
     "output_type": "stream",
     "text": [
      "{'kiwi', 'Apple'}\n",
      "{'kiwi', 'Apple'}\n"
     ]
    }
   ],
   "source": [
    "print(g1 & g2)\n",
    "print(g1.intersection(g2)) #intersection"
   ]
  },
  {
   "cell_type": "code",
   "execution_count": 31,
   "metadata": {},
   "outputs": [
    {
     "name": "stdout",
     "output_type": "stream",
     "text": [
      "{'watermelon', 'mango', 'pineapple', 'banana'}\n",
      "{'orange', 'blueberry', 'cherry'}\n"
     ]
    }
   ],
   "source": [
    "print(g1-g2)\n",
    "print(g2-g1) #difference"
   ]
  },
  {
   "cell_type": "code",
   "execution_count": 32,
   "metadata": {},
   "outputs": [
    {
     "name": "stdout",
     "output_type": "stream",
     "text": [
      "{'cherry', 'watermelon', 'orange', 'Apple', 'blueberry', 'pineapple', 'banana', 'kiwi', 'mango'}\n"
     ]
    }
   ],
   "source": [
    "print(g1|g2) #union"
   ]
  },
  {
   "cell_type": "code",
   "execution_count": 33,
   "metadata": {},
   "outputs": [
    {
     "name": "stdout",
     "output_type": "stream",
     "text": [
      "{'watermelon', 'orange', 'blueberry', 'cherry', 'pineapple', 'banana', 'mango'}\n",
      "{'watermelon', 'orange', 'blueberry', 'cherry', 'pineapple', 'banana', 'mango'}\n"
     ]
    }
   ],
   "source": [
    "#symmetric difference\n",
    "\n",
    "print(g1^g2)\n",
    "print(g1.symmetric_difference(g2))"
   ]
  },
  {
   "attachments": {},
   "cell_type": "markdown",
   "metadata": {},
   "source": [
    "#Task \n",
    "\n",
    "-create a list called reports that will hold report of 7 students\n",
    "-each student will have a name and marks in 3 subjects\n",
    "-use for loop to display the report of each student"
   ]
  },
  {
   "cell_type": "code",
   "execution_count": 36,
   "metadata": {},
   "outputs": [
    {
     "name": "stdout",
     "output_type": "stream",
     "text": [
      "['A', 50, 60, 89]\n",
      "['B', 90, 78, 98]\n",
      "['C', 65, 78, 98]\n",
      "['D', 76, 45, 78]\n",
      "['E', 55, 65, 78]\n"
     ]
    }
   ],
   "source": [
    "reports = [['A',50,60,89],['B',90,78,98],['C',65,78,98],['D',76,45,78],['E',55,65,78]]\n",
    "for i in reports :\n",
    "    print(i)\n",
    "\n",
    "\n",
    "\n",
    "\n",
    "\n"
   ]
  },
  {
   "cell_type": "code",
   "execution_count": 39,
   "metadata": {},
   "outputs": [],
   "source": [
    "report = [\n",
    "    ['Rohan',[\n",
    "        ['Maths',90],\n",
    "        ['English',80],\n",
    "        ['Hindi',76],\n",
    "    ]]\n",
    "]"
   ]
  },
  {
   "cell_type": "code",
   "execution_count": 40,
   "metadata": {},
   "outputs": [
    {
     "name": "stdout",
     "output_type": "stream",
     "text": [
      "['Rohan', [['Maths', 90], ['English', 80], ['Hindi', 76]]]\n"
     ]
    }
   ],
   "source": [
    "for students in report :\n",
    "    print(students)"
   ]
  },
  {
   "cell_type": "code",
   "execution_count": 41,
   "metadata": {},
   "outputs": [
    {
     "name": "stdout",
     "output_type": "stream",
     "text": [
      "Rohan\n",
      "[['Maths', 90], ['English', 80], ['Hindi', 76]]\n"
     ]
    }
   ],
   "source": [
    "for student in report :\n",
    "    for details in student:\n",
    "        print(details)"
   ]
  },
  {
   "cell_type": "code",
   "execution_count": 45,
   "metadata": {},
   "outputs": [
    {
     "name": "stdout",
     "output_type": "stream",
     "text": [
      "Rohan\n",
      "Maths 90\n",
      "English 80\n",
      "Hindi 76\n"
     ]
    }
   ],
   "source": [
    "for stud in report:\n",
    "    for detaills in stud :\n",
    "        if isinstance(detaills,str):\n",
    "            print(detaills)\n",
    "        if isinstance(detaills,list):\n",
    "            for subject in detaills :\n",
    "                print(subject[0],subject[1])"
   ]
  },
  {
   "cell_type": "code",
   "execution_count": null,
   "metadata": {},
   "outputs": [],
   "source": []
  }
 ],
 "metadata": {
  "kernelspec": {
   "display_name": "base",
   "language": "python",
   "name": "python3"
  },
  "language_info": {
   "codemirror_mode": {
    "name": "ipython",
    "version": 3
   },
   "file_extension": ".py",
   "mimetype": "text/x-python",
   "name": "python",
   "nbconvert_exporter": "python",
   "pygments_lexer": "ipython3",
   "version": "3.10.10"
  },
  "orig_nbformat": 4
 },
 "nbformat": 4,
 "nbformat_minor": 2
}
