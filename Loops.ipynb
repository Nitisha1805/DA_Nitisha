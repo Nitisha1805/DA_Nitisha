{
 "cells": [
  {
   "cell_type": "code",
   "execution_count": 1,
   "metadata": {},
   "outputs": [
    {
     "name": "stdout",
     "output_type": "stream",
     "text": [
      "apple\n",
      "orange\n",
      "banana\n",
      "melon\n",
      "mango\n",
      "cherry\n"
     ]
    }
   ],
   "source": [
    "fruits = ['apple', 'orange', 'banana','melon','mango','cherry']\n",
    "for fruit in fruits :\n",
    "    print(fruit)"
   ]
  },
  {
   "cell_type": "code",
   "execution_count": 2,
   "metadata": {},
   "outputs": [
    {
     "name": "stdout",
     "output_type": "stream",
     "text": [
      "(0, 'apple')\n",
      "(1, 'orange')\n",
      "(2, 'banana')\n",
      "(3, 'melon')\n",
      "(4, 'mango')\n",
      "(5, 'cherry')\n"
     ]
    }
   ],
   "source": [
    "#enumerate (we'll get index and values both.)\n",
    "for item in enumerate(fruits) :\n",
    "    print(item)"
   ]
  },
  {
   "cell_type": "code",
   "execution_count": 3,
   "metadata": {},
   "outputs": [
    {
     "name": "stdout",
     "output_type": "stream",
     "text": [
      "0 apple\n",
      "1 orange\n",
      "2 banana\n",
      "3 melon\n",
      "4 mango\n",
      "5 cherry\n"
     ]
    }
   ],
   "source": [
    "#without enumerate(don't use)\n",
    "count =0\n",
    "for fruit in fruits :\n",
    "    print(count, fruit)\n",
    "    count+=1"
   ]
  },
  {
   "cell_type": "code",
   "execution_count": 4,
   "metadata": {},
   "outputs": [
    {
     "name": "stdout",
     "output_type": "stream",
     "text": [
      "0=> apple\n",
      "1=> orange\n",
      "2=> banana\n",
      "3=> melon\n",
      "4=> mango\n",
      "5=> cherry\n"
     ]
    }
   ],
   "source": [
    "for idx, val in enumerate(fruits) :\n",
    "    print(f'{idx}=> {val}')"
   ]
  },
  {
   "cell_type": "code",
   "execution_count": 5,
   "metadata": {},
   "outputs": [
    {
     "name": "stdout",
     "output_type": "stream",
     "text": [
      "apple\n",
      "banana\n",
      "mango\n"
     ]
    }
   ],
   "source": [
    "#index based selection\n",
    "for idx, val in enumerate(fruits) :\n",
    "    if idx % 2 == 0:\n",
    "        print(val)"
   ]
  },
  {
   "cell_type": "code",
   "execution_count": 6,
   "metadata": {},
   "outputs": [
    {
     "name": "stdout",
     "output_type": "stream",
     "text": [
      "apple\n",
      "orange\n",
      "banana\n"
     ]
    }
   ],
   "source": [
    "#index based control\n",
    "for idx, val in enumerate(fruits) :\n",
    "    if idx == 3:\n",
    "        break\n",
    "    print(val)"
   ]
  },
  {
   "cell_type": "code",
   "execution_count": 8,
   "metadata": {},
   "outputs": [
    {
     "name": "stdout",
     "output_type": "stream",
     "text": [
      "0 1 6\n",
      "7 2 9\n",
      "5 4 7\n"
     ]
    }
   ],
   "source": [
    "#zip function\n",
    "x=[0,7,5]\n",
    "y=[1,2,4]\n",
    "z=[6,9,7,8]\n",
    "for i , j , l in zip(x,y,z) :\n",
    "    print(i,j,l)"
   ]
  },
  {
   "cell_type": "code",
   "execution_count": 10,
   "metadata": {},
   "outputs": [
    {
     "name": "stdout",
     "output_type": "stream",
     "text": [
      "7 18 16 "
     ]
    }
   ],
   "source": [
    "for i , j , l in zip(x,y,z) :\n",
    "    print(i + j + l, end=' ')"
   ]
  },
  {
   "cell_type": "code",
   "execution_count": 12,
   "metadata": {},
   "outputs": [
    {
     "name": "stdout",
     "output_type": "stream",
     "text": [
      "0\n",
      "7\n",
      "5\n",
      "Loop completed\n"
     ]
    }
   ],
   "source": [
    "for i in x :\n",
    "    print(i)\n",
    "print('Loop completed')\n"
   ]
  },
  {
   "cell_type": "code",
   "execution_count": 13,
   "metadata": {},
   "outputs": [
    {
     "name": "stdout",
     "output_type": "stream",
     "text": [
      "0\n",
      "7\n",
      "5\n",
      "Loop completed\n"
     ]
    }
   ],
   "source": [
    "#for else\n",
    "for i in x :\n",
    "    print(i)\n",
    "else:\n",
    "    print('Loop completed')\n",
    "\n"
   ]
  },
  {
   "cell_type": "code",
   "execution_count": 14,
   "metadata": {},
   "outputs": [
    {
     "name": "stdout",
     "output_type": "stream",
     "text": [
      "0\n",
      "7\n",
      "5\n",
      "Loop completed\n"
     ]
    }
   ],
   "source": [
    "for i in x :\n",
    "    if i == 3 :\n",
    "        break \n",
    "    print(i)\n",
    "else:\n",
    "    print('Loop completed')\n"
   ]
  },
  {
   "cell_type": "code",
   "execution_count": 23,
   "metadata": {},
   "outputs": [
    {
     "name": "stdout",
     "output_type": "stream",
     "text": [
      "Prime\n"
     ]
    }
   ],
   "source": [
    "n=19\n",
    "for i in range (2 , n):\n",
    "    if n % i ==0 :\n",
    "        print('Not Prime')\n",
    "        break\n",
    "else :\n",
    "    print('Prime')"
   ]
  },
  {
   "cell_type": "code",
   "execution_count": 26,
   "metadata": {},
   "outputs": [
    {
     "name": "stdout",
     "output_type": "stream",
     "text": [
      "You Entered 3\n",
      "You Entered 5\n",
      "You Entered 8\n",
      "You Entered 16\n"
     ]
    }
   ],
   "source": [
    "#WHILE\n",
    "\n",
    "s = 0\n",
    "while s < 10 :\n",
    "    s = int(input('Enter the value of X :'  ))\n",
    "    print(f\"You Entered {s}\")\n"
   ]
  },
  {
   "cell_type": "code",
   "execution_count": 27,
   "metadata": {},
   "outputs": [
    {
     "name": "stdout",
     "output_type": "stream",
     "text": [
      "34+43=77\n"
     ]
    }
   ],
   "source": [
    "#infinite while loop\n",
    "\n",
    "while True :\n",
    "    a = int(input('Enter a value of a '))\n",
    "    b = int(input('Enter a value of b '))\n",
    "    total = a+b\n",
    "    print(f'{a}+{b}={total}')\n",
    "    if input('Do want to Continue ?? Y/N') == 'N' :\n",
    "        break"
   ]
  },
  {
   "cell_type": "code",
   "execution_count": 28,
   "metadata": {},
   "outputs": [
    {
     "name": "stdout",
     "output_type": "stream",
     "text": [
      "Once upon a time there was a King\n",
      "That's it\n",
      "He Dies.\n",
      "\n"
     ]
    }
   ],
   "source": [
    "#Write a story\n",
    " \n",
    "story = ''\n",
    "while True :\n",
    "    line = input(\"Enter lines of your Story : \")\n",
    "    if line :\n",
    "        story += line + '\\n'\n",
    "    else:\n",
    "        break\n",
    "print(story)"
   ]
  },
  {
   "cell_type": "code",
   "execution_count": null,
   "metadata": {},
   "outputs": [],
   "source": []
  }
 ],
 "metadata": {
  "kernelspec": {
   "display_name": "base",
   "language": "python",
   "name": "python3"
  },
  "language_info": {
   "codemirror_mode": {
    "name": "ipython",
    "version": 3
   },
   "file_extension": ".py",
   "mimetype": "text/x-python",
   "name": "python",
   "nbconvert_exporter": "python",
   "pygments_lexer": "ipython3",
   "version": "3.10.10"
  },
  "orig_nbformat": 4
 },
 "nbformat": 4,
 "nbformat_minor": 2
}
