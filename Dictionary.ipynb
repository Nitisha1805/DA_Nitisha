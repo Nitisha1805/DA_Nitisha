{
 "cells": [
  {
   "attachments": {},
   "cell_type": "markdown",
   "metadata": {},
   "source": [
    "##Dictionary\n",
    "- orderd data structure\n",
    "- mutable\n",
    "- data stored in key value pair\n",
    " - key : they are immutable and unique\n",
    " - value can be mutable or immutale and can be duplicate and have type\n",
    "-unindexed\n",
    "-represented by '{}'\n",
    "-dict() that can take key value pair as argument"
   ]
  },
  {
   "cell_type": "code",
   "execution_count": 3,
   "metadata": {},
   "outputs": [],
   "source": [
    "# create Dictionary\n",
    "\n",
    "fruits = {'apple':2,\n",
    "          'banana':3,\n",
    "          'orange':5}"
   ]
  },
  {
   "cell_type": "code",
   "execution_count": 4,
   "metadata": {},
   "outputs": [],
   "source": [
    "grocery = {\n",
    "    'fruit':['apple','mango','orange','grape'],  #fruit is Key\n",
    "    'vegies':['carrot','potato','onion'],\n",
    "    'dairy':['milk','bread','cheese'],\n",
    "    'meat':None\n",
    "}"
   ]
  },
  {
   "cell_type": "code",
   "execution_count": null,
   "metadata": {},
   "outputs": [],
   "source": [
    "print(fruits)"
   ]
  },
  {
   "cell_type": "code",
   "execution_count": 7,
   "metadata": {},
   "outputs": [
    {
     "name": "stdout",
     "output_type": "stream",
     "text": [
      "{'fruit': ['apple', 'mango', 'orange', 'grape'], 'vegies': ['carrot', 'potato', 'onion'], 'dairy': ['milk', 'bread', 'cheese'], 'meat': None}\n"
     ]
    }
   ],
   "source": [
    "print(grocery)"
   ]
  },
  {
   "cell_type": "code",
   "execution_count": 8,
   "metadata": {},
   "outputs": [],
   "source": [
    "from pprint import pp # presentable output"
   ]
  },
  {
   "cell_type": "code",
   "execution_count": 9,
   "metadata": {},
   "outputs": [
    {
     "name": "stdout",
     "output_type": "stream",
     "text": [
      "{'fruit': ['apple', 'mango', 'orange', 'grape'],\n",
      " 'vegies': ['carrot', 'potato', 'onion'],\n",
      " 'dairy': ['milk', 'bread', 'cheese'],\n",
      " 'meat': None}\n"
     ]
    }
   ],
   "source": [
    "pp(grocery)"
   ]
  },
  {
   "cell_type": "code",
   "execution_count": 12,
   "metadata": {},
   "outputs": [],
   "source": [
    "#Update\n",
    "\n",
    "fruits['apple']#fetching\n",
    "fruits['apple']=10"
   ]
  },
  {
   "cell_type": "code",
   "execution_count": 13,
   "metadata": {},
   "outputs": [
    {
     "name": "stdout",
     "output_type": "stream",
     "text": [
      "{'apple': 10, 'banana': 3, 'orange': 5}\n"
     ]
    }
   ],
   "source": [
    "pp(fruits)"
   ]
  },
  {
   "cell_type": "code",
   "execution_count": 15,
   "metadata": {},
   "outputs": [
    {
     "name": "stdout",
     "output_type": "stream",
     "text": [
      "{'apple': 10, 'banana': 3, 'orange': 5, 'mango': 25}\n"
     ]
    }
   ],
   "source": [
    "fruits['mango'] = 25 #new key it will add mango in dictionary\n",
    "pp(fruits)"
   ]
  },
  {
   "cell_type": "code",
   "execution_count": 16,
   "metadata": {},
   "outputs": [
    {
     "name": "stdout",
     "output_type": "stream",
     "text": [
      "{'fruit': ['apple', 'mango', 'orange', 'grape'],\n",
      " 'vegies': ['carrot', 'potato', 'onion'],\n",
      " 'dairy': ['milk', 'bread', 'cheese'],\n",
      " 'meat': None,\n",
      " 'spices': ['cumin', 'coriander', 'tumeric']}\n"
     ]
    }
   ],
   "source": [
    "grocery['spices']=['cumin','coriander','tumeric']\n",
    "pp(grocery)"
   ]
  },
  {
   "cell_type": "code",
   "execution_count": 18,
   "metadata": {},
   "outputs": [
    {
     "name": "stdout",
     "output_type": "stream",
     "text": [
      "{'fruit': ['kiwi', 'orange', 'apple', 'grape'],\n",
      " 'vegies': ['carrot', 'potato', 'onion'],\n",
      " 'dairy': ['milk', 'bread', 'cheese'],\n",
      " 'meat': None,\n",
      " 'spices': ['cumin', 'coriander', 'tumeric']}\n"
     ]
    }
   ],
   "source": [
    "grocery['fruit'] = ['kiwi','orange','apple','grape']\n",
    "pp(grocery)"
   ]
  },
  {
   "cell_type": "code",
   "execution_count": 21,
   "metadata": {},
   "outputs": [
    {
     "name": "stdout",
     "output_type": "stream",
     "text": [
      "{'fruit': ['kiwi', 'orange', 'apple', 'grape', 'mango'],\n",
      " 'vegies': ['carrot', 'potato', 'onion'],\n",
      " 'dairy': ['milk', 'bread', 'cheese'],\n",
      " 'meat': None,\n",
      " 'spices': ['cumin', 'coriander', 'tumeric']}\n"
     ]
    }
   ],
   "source": [
    "grocery['fruit'].append('mango')   #add new value in list\n",
    "pp(grocery)"
   ]
  },
  {
   "cell_type": "code",
   "execution_count": null,
   "metadata": {},
   "outputs": [],
   "source": [
    "#reports['rajesh]['evs']=99\n",
    "#pp(reports)"
   ]
  },
  {
   "cell_type": "code",
   "execution_count": 22,
   "metadata": {},
   "outputs": [],
   "source": [
    "reports = {\n",
    "    'rajesh' : {\n",
    "        'English' : 80,\n",
    "        'Hindi' : 90,\n",
    "        'Math' : 86\n",
    "    },\n",
    "    'Suresh' : {\n",
    "        'English' : 70,\n",
    "        'Hindi' : 68,\n",
    "        'Math' : 86\n",
    "\n",
    "    },\n",
    "}"
   ]
  },
  {
   "cell_type": "code",
   "execution_count": 23,
   "metadata": {},
   "outputs": [
    {
     "data": {
      "text/plain": [
       "3"
      ]
     },
     "execution_count": 23,
     "metadata": {},
     "output_type": "execute_result"
    }
   ],
   "source": [
    "fruits.pop('banana')  # remove key value pair from dictionary\n"
   ]
  },
  {
   "cell_type": "code",
   "execution_count": 24,
   "metadata": {},
   "outputs": [
    {
     "data": {
      "text/plain": [
       "{'English': 80, 'Hindi': 90, 'Math': 86}"
      ]
     },
     "execution_count": 24,
     "metadata": {},
     "output_type": "execute_result"
    }
   ],
   "source": [
    "reports.pop('rajesh')"
   ]
  },
  {
   "cell_type": "code",
   "execution_count": 25,
   "metadata": {},
   "outputs": [
    {
     "data": {
      "text/plain": [
       "{'Suresh': {'English': 70, 'Hindi': 68, 'Math': 86}}"
      ]
     },
     "execution_count": 25,
     "metadata": {},
     "output_type": "execute_result"
    }
   ],
   "source": [
    "reports"
   ]
  },
  {
   "cell_type": "code",
   "execution_count": 26,
   "metadata": {},
   "outputs": [
    {
     "name": "stdout",
     "output_type": "stream",
     "text": [
      "{'fruit': ['kiwi', 'orange', 'apple', 'grape', 'mango'],\n",
      " 'vegies': ['carrot', 'potato', 'onion'],\n",
      " 'dairy': ['milk', 'bread', 'cheese'],\n",
      " 'meat': None,\n",
      " 'spices': ['cumin', 'coriander', 'tumeric']}\n"
     ]
    }
   ],
   "source": [
    "pp(grocery)"
   ]
  },
  {
   "cell_type": "code",
   "execution_count": 27,
   "metadata": {},
   "outputs": [],
   "source": [
    "grocery['vegies'].remove('onion') # remove value from list"
   ]
  },
  {
   "cell_type": "code",
   "execution_count": 28,
   "metadata": {},
   "outputs": [
    {
     "name": "stdout",
     "output_type": "stream",
     "text": [
      "{'fruit': ['kiwi', 'orange', 'apple', 'grape', 'mango'],\n",
      " 'vegies': ['carrot', 'potato'],\n",
      " 'dairy': ['milk', 'bread', 'cheese'],\n",
      " 'meat': None,\n",
      " 'spices': ['cumin', 'coriander', 'tumeric']}\n"
     ]
    }
   ],
   "source": [
    "pp(grocery)"
   ]
  },
  {
   "cell_type": "code",
   "execution_count": 30,
   "metadata": {},
   "outputs": [
    {
     "data": {
      "text/plain": [
       "dict_keys(['apple', 'orange', 'mango'])"
      ]
     },
     "execution_count": 30,
     "metadata": {},
     "output_type": "execute_result"
    }
   ],
   "source": [
    "fruits.keys()  #get all the keys"
   ]
  },
  {
   "cell_type": "code",
   "execution_count": 31,
   "metadata": {},
   "outputs": [
    {
     "data": {
      "text/plain": [
       "dict_values([10, 5, 25])"
      ]
     },
     "execution_count": 31,
     "metadata": {},
     "output_type": "execute_result"
    }
   ],
   "source": [
    "fruits.values() #get all the values from dict"
   ]
  },
  {
   "cell_type": "code",
   "execution_count": 32,
   "metadata": {},
   "outputs": [
    {
     "data": {
      "text/plain": [
       "dict_items([('apple', 10), ('orange', 5), ('mango', 25)])"
      ]
     },
     "execution_count": 32,
     "metadata": {},
     "output_type": "execute_result"
    }
   ],
   "source": [
    "fruits.items()"
   ]
  },
  {
   "cell_type": "code",
   "execution_count": 33,
   "metadata": {},
   "outputs": [
    {
     "name": "stdout",
     "output_type": "stream",
     "text": [
      "apple 10\n",
      "orange 5\n",
      "mango 25\n"
     ]
    }
   ],
   "source": [
    "#Traversal\n",
    "\n",
    "for k,v in fruits.items() :\n",
    "    print(k,v)"
   ]
  },
  {
   "cell_type": "code",
   "execution_count": 34,
   "metadata": {},
   "outputs": [
    {
     "data": {
      "text/plain": [
       "70"
      ]
     },
     "execution_count": 34,
     "metadata": {},
     "output_type": "execute_result"
    }
   ],
   "source": [
    "reports['Suresh']['English']"
   ]
  },
  {
   "cell_type": "code",
   "execution_count": 35,
   "metadata": {},
   "outputs": [
    {
     "data": {
      "text/plain": [
       "{'English': 70, 'Hindi': 68, 'Math': 86}"
      ]
     },
     "execution_count": 35,
     "metadata": {},
     "output_type": "execute_result"
    }
   ],
   "source": [
    "reports.get('Suresh')"
   ]
  },
  {
   "cell_type": "code",
   "execution_count": 36,
   "metadata": {},
   "outputs": [
    {
     "data": {
      "text/plain": [
       "'he is out'"
      ]
     },
     "execution_count": 36,
     "metadata": {},
     "output_type": "execute_result"
    }
   ],
   "source": [
    "reports.get('ramesh','he is out')"
   ]
  },
  {
   "cell_type": "code",
   "execution_count": 37,
   "metadata": {},
   "outputs": [
    {
     "data": {
      "text/plain": [
       "{'English': 70, 'Hindi': 68, 'Math': 86}"
      ]
     },
     "execution_count": 37,
     "metadata": {},
     "output_type": "execute_result"
    }
   ],
   "source": [
    "reports.get('Suresh','he is good student')"
   ]
  },
  {
   "cell_type": "code",
   "execution_count": 38,
   "metadata": {},
   "outputs": [
    {
     "name": "stdout",
     "output_type": "stream",
     "text": [
      "{'Suresh': {'English': 70, 'Hindi': 68, 'Math': 86},\n",
      " 'sunita': {'English': 93, 'Hindi': 76, 'Math': 67}}\n"
     ]
    }
   ],
   "source": [
    "reports['sunita'] = {\n",
    "    'English':93,\n",
    "    'Hindi' : 76,\n",
    "    'Math' : 67\n",
    "\n",
    "}\n",
    "pp(reports)"
   ]
  },
  {
   "cell_type": "code",
   "execution_count": 40,
   "metadata": {},
   "outputs": [
    {
     "name": "stdout",
     "output_type": "stream",
     "text": [
      "Suresh\n",
      "70 in English\n",
      "68 in Hindi\n",
      "86 in Math\n",
      "--------------------------------------------------\n",
      "sunita\n",
      "93 in English\n",
      "76 in Hindi\n",
      "67 in Math\n",
      "--------------------------------------------------\n"
     ]
    }
   ],
   "source": [
    "for student , details in reports.items() :\n",
    "    print(student)\n",
    "    for sub , marks in details.items():\n",
    "        print(f'{marks} in {sub}')\n",
    "    print('-----'*10)"
   ]
  },
  {
   "attachments": {},
   "cell_type": "markdown",
   "metadata": {},
   "source": [
    "# Create a Dictionary of 5 Employee with details\n",
    "-name : str\n",
    "-department str\n",
    "-sal : int\n",
    "-skills : list\n",
    "-project : dict\n",
    "  -proj_name : str\n",
    "  -proj_duration : int\n",
    "  -proj_tech : list"
   ]
  },
  {
   "cell_type": "code",
   "execution_count": null,
   "metadata": {},
   "outputs": [],
   "source": [
    "emps = {\n",
    "    'e1' : {\n",
    "        'name': 'Alex',\n",
    "        'dept' : 'HR',\n",
    "        'slaray' : '10000',\n",
    "        'skills' : ['Management','Communication'],\n",
    "        'projects' : {\n",
    "            'project_name' : 'HRMS',\n",
    "            'project_dur' : 6,\n",
    "            'project_tech' : ['excel','power-Bi','powerpoint']\n",
    "        },\n",
    "    },\n",
    "    'e2' :  {\n",
    "        'name': 'Robin',\n",
    "        'dept' : 'Software Developer',\n",
    "        'slaray' : '15000',\n",
    "        'skills' : ['Management','Communication','Hardworking'],\n",
    "        'projects' : {\n",
    "            'project_name' : 'PG Management',\n",
    "            'project_dur' : 6,\n",
    "            'project_tech' : ['HTML','JS','CSS']\n",
    "        },\n",
    "    },\n",
    "    \n",
    "\n",
    "        \n",
    "\n",
    "    \n",
    "}"
   ]
  },
  {
   "cell_type": "code",
   "execution_count": null,
   "metadata": {},
   "outputs": [],
   "source": []
  }
 ],
 "metadata": {
  "kernelspec": {
   "display_name": "base",
   "language": "python",
   "name": "python3"
  },
  "language_info": {
   "codemirror_mode": {
    "name": "ipython",
    "version": 3
   },
   "file_extension": ".py",
   "mimetype": "text/x-python",
   "name": "python",
   "nbconvert_exporter": "python",
   "pygments_lexer": "ipython3",
   "version": "3.10.10"
  },
  "orig_nbformat": 4
 },
 "nbformat": 4,
 "nbformat_minor": 2
}
