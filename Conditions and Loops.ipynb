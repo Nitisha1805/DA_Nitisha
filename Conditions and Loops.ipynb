{
 "cells": [
  {
   "cell_type": "code",
   "execution_count": 1,
   "metadata": {},
   "outputs": [],
   "source": [
    "x=10\n",
    "y=3\n"
   ]
  },
  {
   "cell_type": "code",
   "execution_count": 2,
   "metadata": {},
   "outputs": [
    {
     "name": "stdout",
     "output_type": "stream",
     "text": [
      "x is greater\n"
     ]
    }
   ],
   "source": [
    "if x>y :\n",
    "    print('x is greater')"
   ]
  },
  {
   "cell_type": "code",
   "execution_count": 3,
   "metadata": {},
   "outputs": [
    {
     "name": "stdout",
     "output_type": "stream",
     "text": [
      "x is greater and positive.\n"
     ]
    }
   ],
   "source": [
    "if x>y and x>0 :\n",
    "    print('x is greater and positive.')"
   ]
  },
  {
   "cell_type": "code",
   "execution_count": 4,
   "metadata": {},
   "outputs": [
    {
     "name": "stdout",
     "output_type": "stream",
     "text": [
      " x is greater than 5 and y is greater then 3\n"
     ]
    }
   ],
   "source": [
    "if x >5 :\n",
    "    if y > 1 :\n",
    "        print(' x is greater than 5 and y is greater then 3')\n",
    "        "
   ]
  },
  {
   "cell_type": "code",
   "execution_count": 5,
   "metadata": {},
   "outputs": [
    {
     "name": "stdout",
     "output_type": "stream",
     "text": [
      "x is greater than 5\n"
     ]
    }
   ],
   "source": [
    "if x > 5 :\n",
    "    print('x is greater than 5')\n",
    "else :\n",
    "    print(' x is not greater.')\n",
    "   "
   ]
  },
  {
   "cell_type": "code",
   "execution_count": 6,
   "metadata": {},
   "outputs": [
    {
     "name": "stdout",
     "output_type": "stream",
     "text": [
      "x and y are greater than 5.\n"
     ]
    }
   ],
   "source": [
    "if x > 5 :\n",
    "    if y >1 :\n",
    "        print('x and y are greater than 5.')\n",
    "    else :\n",
    "        print('x is greater than 5 but y is not.')\n",
    "else :\n",
    "    print(' x is not greater than 5')"
   ]
  },
  {
   "cell_type": "code",
   "execution_count": 8,
   "metadata": {},
   "outputs": [
    {
     "name": "stdout",
     "output_type": "stream",
     "text": [
      "x is an Odd number.\n"
     ]
    }
   ],
   "source": [
    "x = 5\n",
    "if x % 2==0 :\n",
    "\n",
    "    print('x is Even number.')\n",
    "else :\n",
    "    print('x is an Odd number.')"
   ]
  },
  {
   "cell_type": "code",
   "execution_count": 12,
   "metadata": {},
   "outputs": [
    {
     "name": "stdout",
     "output_type": "stream",
     "text": [
      "x,y,z are equal.\n"
     ]
    }
   ],
   "source": [
    "# multiple condition statements\n",
    "x , y , z = 50, 50, 50\n",
    "if x > y and x > z :\n",
    "    print(' x is greater.')\n",
    "elif y > x and  y > z :\n",
    "    print('y is greater')\n",
    "elif z >x and z >  y :\n",
    "    print('z is greater.')\n",
    "else :\n",
    "    print('x,y,z are equal.')"
   ]
  },
  {
   "cell_type": "code",
   "execution_count": null,
   "metadata": {},
   "outputs": [],
   "source": [
    "#LOOPS\n",
    "\n",
    "  "
   ]
  }
 ],
 "metadata": {
  "kernelspec": {
   "display_name": "base",
   "language": "python",
   "name": "python3"
  },
  "language_info": {
   "codemirror_mode": {
    "name": "ipython",
    "version": 3
   },
   "file_extension": ".py",
   "mimetype": "text/x-python",
   "name": "python",
   "nbconvert_exporter": "python",
   "pygments_lexer": "ipython3",
   "version": "3.10.10"
  },
  "orig_nbformat": 4
 },
 "nbformat": 4,
 "nbformat_minor": 2
}
