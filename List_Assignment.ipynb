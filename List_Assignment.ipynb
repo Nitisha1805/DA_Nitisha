{
 "cells": [
  {
   "cell_type": "code",
   "execution_count": 3,
   "metadata": {},
   "outputs": [
    {
     "name": "stdout",
     "output_type": "stream",
     "text": [
      "['1', '2', '3']\n"
     ]
    }
   ],
   "source": [
    "# Ques 1)\n",
    "list = []\n",
    "elements = int(input('Enter how many elements you want : '))\n",
    "for i in range(elements) :\n",
    "    name = input(\"Enter the elements : \")\n",
    "    list.append(name)\n",
    "print(list)\n",
    "\n"
   ]
  },
  {
   "cell_type": "code",
   "execution_count": 4,
   "metadata": {},
   "outputs": [
    {
     "name": "stdout",
     "output_type": "stream",
     "text": [
      "Yes the item is in the list that is :  2\n"
     ]
    }
   ],
   "source": [
    "# Ques 2\n",
    "list2 = [1,2,4,5,6,7,4,3,8,7,9,10,11,12,13,14,15,17,16,18,19,20]\n",
    "user = int(input('Enter any number u want to find : '))\n",
    "if user in list2 :\n",
    "    print(f'Yes the item is in the list that is : ',user)\n",
    "else :\n",
    "    print(\"No, the item is not in the list\")\n",
    "\n"
   ]
  },
  {
   "cell_type": "code",
   "execution_count": 8,
   "metadata": {},
   "outputs": [
    {
     "name": "stdout",
     "output_type": "stream",
     "text": [
      "['Another', 'Attack o titan', 'Bleach', 'Charlotte', 'Demon Slayer', 'Given', 'Haikyyu', 'Naruto', 'Spy x Family']\n"
     ]
    }
   ],
   "source": [
    "#Ques3\n",
    "\n",
    "list3 = ['Naruto','Another','Bleach','Demon Slayer','Charlotte','Haikyyu','Attack o titan','Given','Spy x Family']\n",
    "list3.sort()\n",
    "print(list3)"
   ]
  },
  {
   "cell_type": "code",
   "execution_count": 11,
   "metadata": {},
   "outputs": [
    {
     "name": "stdout",
     "output_type": "stream",
     "text": [
      "7001\n"
     ]
    }
   ],
   "source": [
    "#Ques 4\n",
    "\n",
    "list4 = [34,67,54,21,31,12,45,90,1007,7001,1,2,3,4,5,6,78,56,9,887,90,89,67,321,567]\n",
    "max_val = max(list4)\n",
    "print(max_val)"
   ]
  },
  {
   "cell_type": "code",
   "execution_count": 12,
   "metadata": {},
   "outputs": [
    {
     "name": "stdout",
     "output_type": "stream",
     "text": [
      "{6, 12, 18, 24, 30}\n"
     ]
    }
   ],
   "source": [
    "#Ques 5\n",
    "\n",
    "list1 = [3,6,9,12,15,18,21,24,27,30]\n",
    "list2 = [6,12,18,24,30,36,42,48,54,60]\n",
    "common = set(list1).intersection(list2)\n",
    "print(common)\n"
   ]
  },
  {
   "cell_type": "code",
   "execution_count": null,
   "metadata": {},
   "outputs": [],
   "source": []
  }
 ],
 "metadata": {
  "kernelspec": {
   "display_name": "base",
   "language": "python",
   "name": "python3"
  },
  "language_info": {
   "codemirror_mode": {
    "name": "ipython",
    "version": 3
   },
   "file_extension": ".py",
   "mimetype": "text/x-python",
   "name": "python",
   "nbconvert_exporter": "python",
   "pygments_lexer": "ipython3",
   "version": "3.10.10"
  },
  "orig_nbformat": 4
 },
 "nbformat": 4,
 "nbformat_minor": 2
}
